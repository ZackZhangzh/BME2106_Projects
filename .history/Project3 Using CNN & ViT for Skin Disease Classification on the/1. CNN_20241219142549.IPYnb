{
 "cells": [
  {
   "cell_type": "code",
   "execution_count": 2,
   "metadata": {},
   "outputs": [
    {
     "name": "stdout",
     "output_type": "stream",
     "text": [
      "['train_images', 'train_labels', 'val_images', 'val_labels', 'test_images', 'test_labels']\n"
     ]
    }
   ],
   "source": [
    "# Cell 0: Import necessary packages\n",
    "import torch\n",
    "import torchvision\n",
    "import numpy as np\n",
    "import matplotlib.pyplot as plt\n",
    "from torchvision import transforms\n",
    "from torch.utils.data import DataLoader\n",
    "from torchvision.datasets import ImageFolder\n",
    "\n",
    "import os\n",
    "\n",
    "data = np.load('dermamnist_64.npz')\n",
    "print(data.files)"
   ]
  },
  {
   "cell_type": "code",
   "execution_count": 3,
   "metadata": {
    "vscode": {
     "languageId": "ruby"
    }
   },
   "outputs": [
    {
     "name": "stdout",
     "output_type": "stream",
     "text": [
      "Train images shape: (7007, 64, 64, 3)\n",
      "Train labels shape: (7007, 1)\n",
      "Validation images shape: (1003, 64, 64, 3)\n",
      "Validation labels shape: (1003, 1)\n",
      "Test images shape: (2005, 64, 64, 3)\n",
      "Test labels shape: (2005, 1)\n"
     ]
    }
   ],
   "source": [
    "# Cell 1: Load the DermaMNIST dataset using the official train/val/test split\n",
    "train_images = data['train_images']\n",
    "train_labels = data['train_labels']\n",
    "val_images = data['val_images']\n",
    "val_labels = data['val_labels']\n",
    "test_images = data['test_images']\n",
    "test_labels = data['test_labels']\n",
    "\n",
    "print(f'Train images shape: {train_images.shape}')\n",
    "print(f'Train labels shape: {train_labels.shape}')\n",
    "print(f'Validation images shape: {val_images.shape}')\n",
    "print(f'Validation labels shape: {val_labels.shape}')\n",
    "print(f'Test images shape: {test_images.shape}')\n",
    "print(f'Test labels shape: {test_labels.shape}')"
   ]
  },
  {
   "cell_type": "code",
   "execution_count": null,
   "metadata": {},
   "outputs": [],
   "source": []
  },
  {
   "cell_type": "code",
   "execution_count": null,
   "metadata": {
    "vscode": {
     "languageId": "ruby"
    }
   },
   "outputs": [],
   "source": []
  }
 ],
 "metadata": {
  "kernelspec": {
   "display_name": "py11",
   "language": "python",
   "name": "python3"
  },
  "language_info": {
   "codemirror_mode": {
    "name": "ipython",
    "version": 3
   },
   "file_extension": ".py",
   "mimetype": "text/x-python",
   "name": "python",
   "nbconvert_exporter": "python",
   "pygments_lexer": "ipython3",
   "version": "3.11.10"
  }
 },
 "nbformat": 4,
 "nbformat_minor": 2
}
